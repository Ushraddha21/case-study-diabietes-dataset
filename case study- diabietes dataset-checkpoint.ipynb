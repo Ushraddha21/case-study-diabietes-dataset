{
 "cells": [
  {
   "cell_type": "code",
   "execution_count": 1,
   "id": "e3e3dd57",
   "metadata": {},
   "outputs": [],
   "source": [
    "import numpy as np\n",
    "import pandas as pd\n",
    "import matplotlib.pyplot as plt\n",
    "import seaborn as sb\n",
    "import warnings\n",
    "warnings.filterwarnings('ignore')"
   ]
  },
  {
   "cell_type": "code",
   "execution_count": 2,
   "id": "93b6e93d",
   "metadata": {},
   "outputs": [
    {
     "data": {
      "text/html": [
       "<div>\n",
       "<style scoped>\n",
       "    .dataframe tbody tr th:only-of-type {\n",
       "        vertical-align: middle;\n",
       "    }\n",
       "\n",
       "    .dataframe tbody tr th {\n",
       "        vertical-align: top;\n",
       "    }\n",
       "\n",
       "    .dataframe thead th {\n",
       "        text-align: right;\n",
       "    }\n",
       "</style>\n",
       "<table border=\"1\" class=\"dataframe\">\n",
       "  <thead>\n",
       "    <tr style=\"text-align: right;\">\n",
       "      <th></th>\n",
       "      <th>Pregnancies</th>\n",
       "      <th>Glucose</th>\n",
       "      <th>BloodPressure</th>\n",
       "      <th>SkinThickness</th>\n",
       "      <th>Insulin</th>\n",
       "      <th>BMI</th>\n",
       "      <th>DiabetesPedigreeFunction</th>\n",
       "      <th>Age</th>\n",
       "      <th>Outcome</th>\n",
       "    </tr>\n",
       "  </thead>\n",
       "  <tbody>\n",
       "    <tr>\n",
       "      <th>0</th>\n",
       "      <td>2</td>\n",
       "      <td>138</td>\n",
       "      <td>62</td>\n",
       "      <td>35</td>\n",
       "      <td>0</td>\n",
       "      <td>33.6</td>\n",
       "      <td>0.127</td>\n",
       "      <td>47</td>\n",
       "      <td>1</td>\n",
       "    </tr>\n",
       "    <tr>\n",
       "      <th>1</th>\n",
       "      <td>0</td>\n",
       "      <td>84</td>\n",
       "      <td>82</td>\n",
       "      <td>31</td>\n",
       "      <td>125</td>\n",
       "      <td>38.2</td>\n",
       "      <td>0.233</td>\n",
       "      <td>23</td>\n",
       "      <td>0</td>\n",
       "    </tr>\n",
       "    <tr>\n",
       "      <th>2</th>\n",
       "      <td>0</td>\n",
       "      <td>145</td>\n",
       "      <td>0</td>\n",
       "      <td>0</td>\n",
       "      <td>0</td>\n",
       "      <td>44.2</td>\n",
       "      <td>0.630</td>\n",
       "      <td>31</td>\n",
       "      <td>1</td>\n",
       "    </tr>\n",
       "    <tr>\n",
       "      <th>3</th>\n",
       "      <td>0</td>\n",
       "      <td>135</td>\n",
       "      <td>68</td>\n",
       "      <td>42</td>\n",
       "      <td>250</td>\n",
       "      <td>42.3</td>\n",
       "      <td>0.365</td>\n",
       "      <td>24</td>\n",
       "      <td>1</td>\n",
       "    </tr>\n",
       "    <tr>\n",
       "      <th>4</th>\n",
       "      <td>1</td>\n",
       "      <td>139</td>\n",
       "      <td>62</td>\n",
       "      <td>41</td>\n",
       "      <td>480</td>\n",
       "      <td>40.7</td>\n",
       "      <td>0.536</td>\n",
       "      <td>21</td>\n",
       "      <td>0</td>\n",
       "    </tr>\n",
       "  </tbody>\n",
       "</table>\n",
       "</div>"
      ],
      "text/plain": [
       "   Pregnancies  Glucose  BloodPressure  SkinThickness  Insulin   BMI  \\\n",
       "0            2      138             62             35        0  33.6   \n",
       "1            0       84             82             31      125  38.2   \n",
       "2            0      145              0              0        0  44.2   \n",
       "3            0      135             68             42      250  42.3   \n",
       "4            1      139             62             41      480  40.7   \n",
       "\n",
       "   DiabetesPedigreeFunction  Age  Outcome  \n",
       "0                     0.127   47        1  \n",
       "1                     0.233   23        0  \n",
       "2                     0.630   31        1  \n",
       "3                     0.365   24        1  \n",
       "4                     0.536   21        0  "
      ]
     },
     "execution_count": 2,
     "metadata": {},
     "output_type": "execute_result"
    }
   ],
   "source": [
    "# to load dataset\n",
    "df=pd.read_csv('kaggle_diabetes.csv')\n",
    "# to show first 5 records\n",
    "df.head()"
   ]
  },
  {
   "cell_type": "code",
   "execution_count": 3,
   "id": "eaba639b",
   "metadata": {},
   "outputs": [
    {
     "data": {
      "text/plain": [
       "Pregnancies                 0\n",
       "Glucose                     0\n",
       "BloodPressure               0\n",
       "SkinThickness               0\n",
       "Insulin                     0\n",
       "BMI                         0\n",
       "DiabetesPedigreeFunction    0\n",
       "Age                         0\n",
       "Outcome                     0\n",
       "dtype: int64"
      ]
     },
     "execution_count": 3,
     "metadata": {},
     "output_type": "execute_result"
    }
   ],
   "source": [
    "# to count null values\n",
    "df.isnull().sum()\n",
    "# here there is no null values."
   ]
  },
  {
   "cell_type": "code",
   "execution_count": 4,
   "id": "3c6e87a2",
   "metadata": {},
   "outputs": [
    {
     "data": {
      "text/plain": [
       "Pregnancies                   int64\n",
       "Glucose                       int64\n",
       "BloodPressure                 int64\n",
       "SkinThickness                 int64\n",
       "Insulin                       int64\n",
       "BMI                         float64\n",
       "DiabetesPedigreeFunction    float64\n",
       "Age                           int64\n",
       "Outcome                       int64\n",
       "dtype: object"
      ]
     },
     "execution_count": 4,
     "metadata": {},
     "output_type": "execute_result"
    }
   ],
   "source": [
    "# crosscheck null values checking datatype\n",
    "df.dtypes"
   ]
  },
  {
   "cell_type": "code",
   "execution_count": 5,
   "id": "fd894879",
   "metadata": {},
   "outputs": [
    {
     "data": {
      "image/png": "[encoded data removed]",
      "text/plain": [
       "<Figure size 432x288 with 2 Axes>"
      ]
     },
     "metadata": {
      "needs_background": "light"
     },
     "output_type": "display_data"
    }
   ],
   "source": [
    "# visualisation\n",
    "sb.heatmap(df.isnull())\n",
    "plt.show()"
   ]
  },
  {
   "cell_type": "code",
   "execution_count": 6,
   "id": "a8245e21",
   "metadata": {},
   "outputs": [
    {
     "data": {
      "text/html": [
       "<div>\n",
       "<style scoped>\n",
       "    .dataframe tbody tr th:only-of-type {\n",
       "        vertical-align: middle;\n",
       "    }\n",
       "\n",
       "    .dataframe tbody tr th {\n",
       "        vertical-align: top;\n",
       "    }\n",
       "\n",
       "    .dataframe thead th {\n",
       "        text-align: right;\n",
       "    }\n",
       "</style>\n",
       "<table border=\"1\" class=\"dataframe\">\n",
       "  <thead>\n",
       "    <tr style=\"text-align: right;\">\n",
       "      <th></th>\n",
       "      <th>Pregnancies</th>\n",
       "      <th>Glucose</th>\n",
       "      <th>BloodPressure</th>\n",
       "      <th>SkinThickness</th>\n",
       "      <th>Insulin</th>\n",
       "      <th>BMI</th>\n",
       "      <th>DiabetesPedigreeFunction</th>\n",
       "      <th>Age</th>\n",
       "      <th>Outcome</th>\n",
       "    </tr>\n",
       "  </thead>\n",
       "  <tbody>\n",
       "    <tr>\n",
       "      <th>count</th>\n",
       "      <td>2000.000000</td>\n",
       "      <td>2000.000000</td>\n",
       "      <td>2000.000000</td>\n",
       "      <td>2000.000000</td>\n",
       "      <td>2000.000000</td>\n",
       "      <td>2000.000000</td>\n",
       "      <td>2000.000000</td>\n",
       "      <td>2000.000000</td>\n",
       "      <td>2000.000000</td>\n",
       "    </tr>\n",
       "    <tr>\n",
       "      <th>mean</th>\n",
       "      <td>3.703500</td>\n",
       "      <td>121.182500</td>\n",
       "      <td>69.145500</td>\n",
       "      <td>20.935000</td>\n",
       "      <td>80.254000</td>\n",
       "      <td>32.193000</td>\n",
       "      <td>0.470930</td>\n",
       "      <td>33.090500</td>\n",
       "      <td>0.342000</td>\n",
       "    </tr>\n",
       "    <tr>\n",
       "      <th>std</th>\n",
       "      <td>3.306063</td>\n",
       "      <td>32.068636</td>\n",
       "      <td>19.188315</td>\n",
       "      <td>16.103243</td>\n",
       "      <td>111.180534</td>\n",
       "      <td>8.149901</td>\n",
       "      <td>0.323553</td>\n",
       "      <td>11.786423</td>\n",
       "      <td>0.474498</td>\n",
       "    </tr>\n",
       "    <tr>\n",
       "      <th>min</th>\n",
       "      <td>0.000000</td>\n",
       "      <td>0.000000</td>\n",
       "      <td>0.000000</td>\n",
       "      <td>0.000000</td>\n",
       "      <td>0.000000</td>\n",
       "      <td>0.000000</td>\n",
       "      <td>0.078000</td>\n",
       "      <td>21.000000</td>\n",
       "      <td>0.000000</td>\n",
       "    </tr>\n",
       "    <tr>\n",
       "      <th>25%</th>\n",
       "      <td>1.000000</td>\n",
       "      <td>99.000000</td>\n",
       "      <td>63.500000</td>\n",
       "      <td>0.000000</td>\n",
       "      <td>0.000000</td>\n",
       "      <td>27.375000</td>\n",
       "      <td>0.244000</td>\n",
       "      <td>24.000000</td>\n",
       "      <td>0.000000</td>\n",
       "    </tr>\n",
       "    <tr>\n",
       "      <th>50%</th>\n",
       "      <td>3.000000</td>\n",
       "      <td>117.000000</td>\n",
       "      <td>72.000000</td>\n",
       "      <td>23.000000</td>\n",
       "      <td>40.000000</td>\n",
       "      <td>32.300000</td>\n",
       "      <td>0.376000</td>\n",
       "      <td>29.000000</td>\n",
       "      <td>0.000000</td>\n",
       "    </tr>\n",
       "    <tr>\n",
       "      <th>75%</th>\n",
       "      <td>6.000000</td>\n",
       "      <td>141.000000</td>\n",
       "      <td>80.000000</td>\n",
       "      <td>32.000000</td>\n",
       "      <td>130.000000</td>\n",
       "      <td>36.800000</td>\n",
       "      <td>0.624000</td>\n",
       "      <td>40.000000</td>\n",
       "      <td>1.000000</td>\n",
       "    </tr>\n",
       "    <tr>\n",
       "      <th>max</th>\n",
       "      <td>17.000000</td>\n",
       "      <td>199.000000</td>\n",
       "      <td>122.000000</td>\n",
       "      <td>110.000000</td>\n",
       "      <td>744.000000</td>\n",
       "      <td>80.600000</td>\n",
       "      <td>2.420000</td>\n",
       "      <td>81.000000</td>\n",
       "      <td>1.000000</td>\n",
       "    </tr>\n",
       "  </tbody>\n",
       "</table>\n",
       "</div>"
      ],
      "text/plain": [
       "       Pregnancies      Glucose  BloodPressure  SkinThickness      Insulin  \\\n",
       "count  2000.000000  2000.000000    2000.000000    2000.000000  2000.000000   \n",
       "mean      3.703500   121.182500      69.145500      20.935000    80.254000   \n",
       "std       3.306063    32.068636      19.188315      16.103243   111.180534   \n",
       "min       0.000000     0.000000       0.000000       0.000000     0.000000   \n",
       "25%       1.000000    99.000000      63.500000       0.000000     0.000000   \n",
       "50%       3.000000   117.000000      72.000000      23.000000    40.000000   \n",
       "75%       6.000000   141.000000      80.000000      32.000000   130.000000   \n",
       "max      17.000000   199.000000     122.000000     110.000000   744.000000   \n",
       "\n",
       "               BMI  DiabetesPedigreeFunction          Age      Outcome  \n",
       "count  2000.000000               2000.000000  2000.000000  2000.000000  \n",
       "mean     32.193000                  0.470930    33.090500     0.342000  \n",
       "std       8.149901                  0.323553    11.786423     0.474498  \n",
       "min       0.000000                  0.078000    21.000000     0.000000  \n",
       "25%      27.375000                  0.244000    24.000000     0.000000  \n",
       "50%      32.300000                  0.376000    29.000000     0.000000  \n",
       "75%      36.800000                  0.624000    40.000000     1.000000  \n",
       "max      80.600000                  2.420000    81.000000     1.000000  "
      ]
     },
     "execution_count": 6,
     "metadata": {},
     "output_type": "execute_result"
    }
   ],
   "source": [
    "df.describe()"
   ]
  },
  {
   "cell_type": "code",
   "execution_count": 7,
   "id": "f0247c08",
   "metadata": {},
   "outputs": [
    {
     "data": {
      "text/plain": [
       "1256"
      ]
     },
     "execution_count": 7,
     "metadata": {},
     "output_type": "execute_result"
    }
   ],
   "source": [
    "# to check duplicated values\n",
    "df.duplicated().sum()"
   ]
  },
  {
   "cell_type": "code",
   "execution_count": 8,
   "id": "cbab524b",
   "metadata": {},
   "outputs": [],
   "source": [
    "# Drop duplicate values\n",
    "df.drop_duplicates(inplace=True)"
   ]
  },
  {
   "cell_type": "code",
   "execution_count": 9,
   "id": "acd01308",
   "metadata": {},
   "outputs": [
    {
     "data": {
      "text/plain": [
       "0"
      ]
     },
     "execution_count": 9,
     "metadata": {},
     "output_type": "execute_result"
    }
   ],
   "source": [
    "# check duplicate values again\n",
    "df.duplicated().sum()"
   ]
  },
  {
   "cell_type": "code",
   "execution_count": 10,
   "id": "87181e06",
   "metadata": {},
   "outputs": [
    {
     "data": {
      "text/plain": [
       "0    491\n",
       "1    253\n",
       "Name: Outcome, dtype: int64"
      ]
     },
     "execution_count": 10,
     "metadata": {},
     "output_type": "execute_result"
    }
   ],
   "source": [
    "# check if dataset is balanced or not\n",
    "df['Outcome'].value_counts()"
   ]
  },
  {
   "cell_type": "code",
   "execution_count": 11,
   "id": "b8755deb",
   "metadata": {},
   "outputs": [],
   "source": [
    "# here data is balanced."
   ]
  },
  {
   "cell_type": "code",
   "execution_count": 12,
   "id": "988b3cbb",
   "metadata": {},
   "outputs": [
    {
     "data": {
      "image/png": "[encoded data removed]",
      "text/plain": [
       "<Figure size 432x288 with 1 Axes>"
      ]
     },
     "metadata": {
      "needs_background": "light"
     },
     "output_type": "display_data"
    }
   ],
   "source": [
    "# visulaised\n",
    "sb.countplot(data=df,x='Outcome')\n",
    "f=df['Outcome'].value_counts()\n",
    "plt.yticks(f)\n",
    "plt.show()"
   ]
  },
  {
   "cell_type": "code",
   "execution_count": 13,
   "id": "3a0cee3a",
   "metadata": {},
   "outputs": [],
   "source": [
    "# select input and output\n",
    "x=df.drop('Outcome',axis=1)\n",
    "y=df['Outcome']"
   ]
  },
  {
   "cell_type": "code",
   "execution_count": 14,
   "id": "0cc2067d",
   "metadata": {},
   "outputs": [],
   "source": [
    "# train_test_split\n",
    "from sklearn.model_selection import train_test_split"
   ]
  },
  {
   "cell_type": "code",
   "execution_count": 15,
   "id": "2a009c96",
   "metadata": {},
   "outputs": [],
   "source": [
    "x_train,x_test,y_train,y_test=train_test_split(x,y,test_size=0.3,random_state=1)"
   ]
  },
  {
   "cell_type": "code",
   "execution_count": 16,
   "id": "75a1f61c",
   "metadata": {},
   "outputs": [
    {
     "data": {
      "text/plain": [
       "((520, 8), (520,), (224, 8), (224,))"
      ]
     },
     "execution_count": 16,
     "metadata": {},
     "output_type": "execute_result"
    }
   ],
   "source": [
    "x_train.shape,y_train.shape,x_test.shape,y_test.shape"
   ]
  },
  {
   "cell_type": "code",
   "execution_count": 17,
   "id": "8f4eae77",
   "metadata": {},
   "outputs": [
    {
     "data": {
      "text/html": [
       "<div>\n",
       "<style scoped>\n",
       "    .dataframe tbody tr th:only-of-type {\n",
       "        vertical-align: middle;\n",
       "    }\n",
       "\n",
       "    .dataframe tbody tr th {\n",
       "        vertical-align: top;\n",
       "    }\n",
       "\n",
       "    .dataframe thead th {\n",
       "        text-align: right;\n",
       "    }\n",
       "</style>\n",
       "<table border=\"1\" class=\"dataframe\">\n",
       "  <thead>\n",
       "    <tr style=\"text-align: right;\">\n",
       "      <th></th>\n",
       "      <th>Pregnancies</th>\n",
       "      <th>Glucose</th>\n",
       "      <th>BloodPressure</th>\n",
       "      <th>SkinThickness</th>\n",
       "      <th>Insulin</th>\n",
       "      <th>BMI</th>\n",
       "      <th>DiabetesPedigreeFunction</th>\n",
       "      <th>Age</th>\n",
       "    </tr>\n",
       "  </thead>\n",
       "  <tbody>\n",
       "    <tr>\n",
       "      <th>516</th>\n",
       "      <td>9</td>\n",
       "      <td>145</td>\n",
       "      <td>88</td>\n",
       "      <td>34</td>\n",
       "      <td>165</td>\n",
       "      <td>30.3</td>\n",
       "      <td>0.771</td>\n",
       "      <td>53</td>\n",
       "    </tr>\n",
       "    <tr>\n",
       "      <th>273</th>\n",
       "      <td>1</td>\n",
       "      <td>71</td>\n",
       "      <td>78</td>\n",
       "      <td>50</td>\n",
       "      <td>45</td>\n",
       "      <td>33.2</td>\n",
       "      <td>0.422</td>\n",
       "      <td>21</td>\n",
       "    </tr>\n",
       "    <tr>\n",
       "      <th>345</th>\n",
       "      <td>8</td>\n",
       "      <td>126</td>\n",
       "      <td>88</td>\n",
       "      <td>36</td>\n",
       "      <td>108</td>\n",
       "      <td>38.5</td>\n",
       "      <td>0.349</td>\n",
       "      <td>49</td>\n",
       "    </tr>\n",
       "    <tr>\n",
       "      <th>358</th>\n",
       "      <td>12</td>\n",
       "      <td>88</td>\n",
       "      <td>74</td>\n",
       "      <td>40</td>\n",
       "      <td>54</td>\n",
       "      <td>35.3</td>\n",
       "      <td>0.378</td>\n",
       "      <td>48</td>\n",
       "    </tr>\n",
       "    <tr>\n",
       "      <th>722</th>\n",
       "      <td>1</td>\n",
       "      <td>149</td>\n",
       "      <td>68</td>\n",
       "      <td>29</td>\n",
       "      <td>127</td>\n",
       "      <td>29.3</td>\n",
       "      <td>0.349</td>\n",
       "      <td>42</td>\n",
       "    </tr>\n",
       "  </tbody>\n",
       "</table>\n",
       "</div>"
      ],
      "text/plain": [
       "     Pregnancies  Glucose  BloodPressure  SkinThickness  Insulin   BMI  \\\n",
       "516            9      145             88             34      165  30.3   \n",
       "273            1       71             78             50       45  33.2   \n",
       "345            8      126             88             36      108  38.5   \n",
       "358           12       88             74             40       54  35.3   \n",
       "722            1      149             68             29      127  29.3   \n",
       "\n",
       "     DiabetesPedigreeFunction  Age  \n",
       "516                     0.771   53  \n",
       "273                     0.422   21  \n",
       "345                     0.349   49  \n",
       "358                     0.378   48  \n",
       "722                     0.349   42  "
      ]
     },
     "execution_count": 17,
     "metadata": {},
     "output_type": "execute_result"
    }
   ],
   "source": [
    "x_train.head()"
   ]
  },
  {
   "cell_type": "code",
   "execution_count": 18,
   "id": "ee6a37e0",
   "metadata": {},
   "outputs": [],
   "source": [
    "# apply StandardScaler on x_train and x_test\n",
    "from sklearn.preprocessing import StandardScaler"
   ]
  },
  {
   "cell_type": "code",
   "execution_count": 19,
   "id": "ce3edc89",
   "metadata": {},
   "outputs": [],
   "source": [
    "ss=StandardScaler()\n",
    "x_train=ss.fit_transform(x_train)\n",
    "x_test=ss.transform(x_test)"
   ]
  },
  {
   "cell_type": "code",
   "execution_count": 20,
   "id": "84825e37",
   "metadata": {},
   "outputs": [
    {
     "data": {
      "text/plain": [
       "array([[ 1.62628812,  0.7466635 ,  0.96705091, ..., -0.23202162,\n",
       "         0.92304681,  1.76483205],\n",
       "       [-0.80118177, -1.56480967,  0.47297892, ...,  0.13489176,\n",
       "        -0.15383619, -1.03654211],\n",
       "       [ 1.32285439,  0.15317715,  0.96705091, ...,  0.8054576 ,\n",
       "        -0.37908679,  1.41466028],\n",
       "       ...,\n",
       "       [ 2.84002307,  0.15317715,  1.06586531, ...,  1.4254147 ,\n",
       "         0.34294938,  0.80185968],\n",
       "       [ 0.10911944,  1.55880273,  0.17653572, ...,  1.45071907,\n",
       "         0.02204441, -0.5988274 ],\n",
       "       [ 1.62628812, -0.59648983,  0.37416452, ...,  0.09693521,\n",
       "         0.5959706 ,  1.15203145]])"
      ]
     },
     "execution_count": 20,
     "metadata": {},
     "output_type": "execute_result"
    }
   ],
   "source": [
    "x_train"
   ]
  },
  {
   "cell_type": "code",
   "execution_count": 21,
   "id": "f917a944",
   "metadata": {},
   "outputs": [],
   "source": [
    "# Now apply logistic regression algo."
   ]
  },
  {
   "cell_type": "code",
   "execution_count": 22,
   "id": "73fd8e85",
   "metadata": {},
   "outputs": [],
   "source": [
    "#Create a function \n",
    "\n",
    "def create_model(model):\n",
    "    \n",
    "     #train the model \n",
    "    model.fit(x_train,y_train)\n",
    "    \n",
    "    #Test the data with 30%\n",
    "    y_pred=model.predict(x_test)\n",
    "    \n",
    "    #Generate the Report\n",
    "    print(classification_report(y_test,y_pred))\n",
    "    print(confusion_matrix(y_test,y_pred))\n",
    "    return model\n",
    "\n"
   ]
  },
  {
   "cell_type": "code",
   "execution_count": 23,
   "id": "528fa463",
   "metadata": {},
   "outputs": [],
   "source": [
    "#Perform the model with the help of logistic Regression of sklearn library.\n",
    "from sklearn.linear_model import LogisticRegression\n",
    "from sklearn.metrics import classification_report,confusion_matrix"
   ]
  },
  {
   "cell_type": "code",
   "execution_count": 24,
   "id": "fa9b7b60",
   "metadata": {},
   "outputs": [],
   "source": [
    "#create the object of logisticRegression\n",
    "lr=LogisticRegression()"
   ]
  },
  {
   "cell_type": "code",
   "execution_count": 25,
   "id": "1f7c7826",
   "metadata": {},
   "outputs": [
    {
     "data": {
      "text/html": [
       "<style>#sk-container-id-1 {color: black;background-color: white;}#sk-container-id-1 pre{padding: 0;}#sk-container-id-1 div.sk-toggleable {background-color: white;}#sk-container-id-1 label.sk-toggleable__label {cursor: pointer;display: block;width: 100%;margin-bottom: 0;padding: 0.3em;box-sizing: border-box;text-align: center;}#sk-container-id-1 label.sk-toggleable__label-arrow:before {content: \"▸\";float: left;margin-right: 0.25em;color: #696969;}#sk-container-id-1 label.sk-toggleable__label-arrow:hover:before {color: black;}#sk-container-id-1 div.sk-estimator:hover label.sk-toggleable__label-arrow:before {color: black;}#sk-container-id-1 div.sk-toggleable__content {max-height: 0;max-width: 0;overflow: hidden;text-align: left;background-color: #f0f8ff;}#sk-container-id-1 div.sk-toggleable__content pre {margin: 0.2em;color: black;border-radius: 0.25em;background-color: #f0f8ff;}#sk-container-id-1 input.sk-toggleable__control:checked~div.sk-toggleable__content {max-height: 200px;max-width: 100%;overflow: auto;}#sk-container-id-1 input.sk-toggleable__control:checked~label.sk-toggleable__label-arrow:before {content: \"▾\";}#sk-container-id-1 div.sk-estimator input.sk-toggleable__control:checked~label.sk-toggleable__label {background-color: #d4ebff;}#sk-container-id-1 div.sk-label input.sk-toggleable__control:checked~label.sk-toggleable__label {background-color: #d4ebff;}#sk-container-id-1 input.sk-hidden--visually {border: 0;clip: rect(1px 1px 1px 1px);clip: rect(1px, 1px, 1px, 1px);height: 1px;margin: -1px;overflow: hidden;padding: 0;position: absolute;width: 1px;}#sk-container-id-1 div.sk-estimator {font-family: monospace;background-color: #f0f8ff;border: 1px dotted black;border-radius: 0.25em;box-sizing: border-box;margin-bottom: 0.5em;}#sk-container-id-1 div.sk-estimator:hover {background-color: #d4ebff;}#sk-container-id-1 div.sk-parallel-item::after {content: \"\";width: 100%;border-bottom: 1px solid gray;flex-grow: 1;}#sk-container-id-1 div.sk-label:hover label.sk-toggleable__label {background-color: #d4ebff;}#sk-container-id-1 div.sk-serial::before {content: \"\";position: absolute;border-left: 1px solid gray;box-sizing: border-box;top: 0;bottom: 0;left: 50%;z-index: 0;}#sk-container-id-1 div.sk-serial {display: flex;flex-direction: column;align-items: center;background-color: white;padding-right: 0.2em;padding-left: 0.2em;position: relative;}#sk-container-id-1 div.sk-item {position: relative;z-index: 1;}#sk-container-id-1 div.sk-parallel {display: flex;align-items: stretch;justify-content: center;background-color: white;position: relative;}#sk-container-id-1 div.sk-item::before, #sk-container-id-1 div.sk-parallel-item::before {content: \"\";position: absolute;border-left: 1px solid gray;box-sizing: border-box;top: 0;bottom: 0;left: 50%;z-index: -1;}#sk-container-id-1 div.sk-parallel-item {display: flex;flex-direction: column;z-index: 1;position: relative;background-color: white;}#sk-container-id-1 div.sk-parallel-item:first-child::after {align-self: flex-end;width: 50%;}#sk-container-id-1 div.sk-parallel-item:last-child::after {align-self: flex-start;width: 50%;}#sk-container-id-1 div.sk-parallel-item:only-child::after {width: 0;}#sk-container-id-1 div.sk-dashed-wrapped {border: 1px dashed gray;margin: 0 0.4em 0.5em 0.4em;box-sizing: border-box;padding-bottom: 0.4em;background-color: white;}#sk-container-id-1 div.sk-label label {font-family: monospace;font-weight: bold;display: inline-block;line-height: 1.2em;}#sk-container-id-1 div.sk-label-container {text-align: center;}#sk-container-id-1 div.sk-container {/* jupyter's `normalize.less` sets `[hidden] { display: none; }` but bootstrap.min.css set `[hidden] { display: none !important; }` so we also need the `!important` here to be able to override the default hidden behavior on the sphinx rendered scikit-learn.org. See: https://github.com/scikit-learn/scikit-learn/issues/21755 */display: inline-block !important;position: relative;}#sk-container-id-1 div.sk-text-repr-fallback {display: none;}</style><div id=\"sk-container-id-1\" class=\"sk-top-container\"><div class=\"sk-text-repr-fallback\"><pre>LogisticRegression()</pre><b>In a Jupyter environment, please rerun this cell to show the HTML representation or trust the notebook. <br />On GitHub, the HTML representation is unable to render, please try loading this page with nbviewer.org.</b></div><div class=\"sk-container\" hidden><div class=\"sk-item\"><div class=\"sk-estimator sk-toggleable\"><input class=\"sk-toggleable__control sk-hidden--visually\" id=\"sk-estimator-id-1\" type=\"checkbox\" checked><label for=\"sk-estimator-id-1\" class=\"sk-toggleable__label sk-toggleable__label-arrow\">LogisticRegression</label><div class=\"sk-toggleable__content\"><pre>LogisticRegression()</pre></div></div></div></div></div>"
      ],
      "text/plain": [
       "LogisticRegression()"
      ]
     },
     "execution_count": 25,
     "metadata": {},
     "output_type": "execute_result"
    }
   ],
   "source": [
    "#train the model with 70% data,use inbuilt method fit() of LogisticRegression class\n",
    "lr.fit(x_train,y_train)"
   ]
  },
  {
   "cell_type": "code",
   "execution_count": 26,
   "id": "0f5ecf7f",
   "metadata": {},
   "outputs": [
    {
     "name": "stdout",
     "output_type": "stream",
     "text": [
      "              precision    recall  f1-score   support\n",
      "\n",
      "           0       0.83      0.87      0.85       154\n",
      "           1       0.68      0.60      0.64        70\n",
      "\n",
      "    accuracy                           0.79       224\n",
      "   macro avg       0.75      0.74      0.74       224\n",
      "weighted avg       0.78      0.79      0.78       224\n",
      "\n",
      "[[134  20]\n",
      " [ 28  42]]\n"
     ]
    }
   ],
   "source": [
    "lr=create_model(lr)"
   ]
  },
  {
   "cell_type": "code",
   "execution_count": 27,
   "id": "387af82d",
   "metadata": {},
   "outputs": [],
   "source": [
    "# here score is 0-0.87 & 1-0.60.\n",
    "# Here score is not good. It can be better ,for apply DecisionTreeClassifier class\n",
    "# Because DTC help to select imp input features with the help of Gini Index or Entropy \n",
    "# Perfrom dataset with the help of DecisionTreeClassifier class\n",
    "# call DecisionTreeClassifier class"
   ]
  },
  {
   "cell_type": "code",
   "execution_count": 28,
   "id": "9e56c62e",
   "metadata": {},
   "outputs": [],
   "source": [
    "#Now call DecisionTreeClassifier\n",
    "from sklearn.tree import  DecisionTreeClassifier"
   ]
  },
  {
   "cell_type": "code",
   "execution_count": 29,
   "id": "beed00f1",
   "metadata": {},
   "outputs": [],
   "source": [
    "#Now create a object for DecisionTreeClassifier\n",
    "dt= DecisionTreeClassifier(random_state=1)"
   ]
  },
  {
   "cell_type": "code",
   "execution_count": 30,
   "id": "f839e26f",
   "metadata": {},
   "outputs": [
    {
     "name": "stdout",
     "output_type": "stream",
     "text": [
      "              precision    recall  f1-score   support\n",
      "\n",
      "           0       0.76      0.68      0.72       154\n",
      "           1       0.42      0.51      0.46        70\n",
      "\n",
      "    accuracy                           0.63       224\n",
      "   macro avg       0.59      0.60      0.59       224\n",
      "weighted avg       0.65      0.63      0.64       224\n",
      "\n",
      "[[105  49]\n",
      " [ 34  36]]\n"
     ]
    }
   ],
   "source": [
    "dt=create_model(dt)"
   ]
  },
  {
   "cell_type": "code",
   "execution_count": 31,
   "id": "2636bbe1",
   "metadata": {},
   "outputs": [
    {
     "data": {
      "text/plain": [
       "array([0.06979389, 0.30236003, 0.07749142, 0.04512949, 0.03086488,\n",
       "       0.16621666, 0.16579308, 0.14235056])"
      ]
     },
     "execution_count": 31,
     "metadata": {},
     "output_type": "execute_result"
    }
   ],
   "source": [
    "#Check the important features means check the information gain of eachinput after train\n",
    "dt.feature_importances_"
   ]
  },
  {
   "cell_type": "code",
   "execution_count": 32,
   "id": "440e1952",
   "metadata": {},
   "outputs": [
    {
     "data": {
      "text/html": [
       "<div>\n",
       "<style scoped>\n",
       "    .dataframe tbody tr th:only-of-type {\n",
       "        vertical-align: middle;\n",
       "    }\n",
       "\n",
       "    .dataframe tbody tr th {\n",
       "        vertical-align: top;\n",
       "    }\n",
       "\n",
       "    .dataframe thead th {\n",
       "        text-align: right;\n",
       "    }\n",
       "</style>\n",
       "<table border=\"1\" class=\"dataframe\">\n",
       "  <thead>\n",
       "    <tr style=\"text-align: right;\">\n",
       "      <th></th>\n",
       "      <th>input columns</th>\n",
       "      <th>Features</th>\n",
       "    </tr>\n",
       "  </thead>\n",
       "  <tbody>\n",
       "    <tr>\n",
       "      <th>0</th>\n",
       "      <td>Pregnancies</td>\n",
       "      <td>0.069794</td>\n",
       "    </tr>\n",
       "    <tr>\n",
       "      <th>1</th>\n",
       "      <td>Glucose</td>\n",
       "      <td>0.302360</td>\n",
       "    </tr>\n",
       "    <tr>\n",
       "      <th>2</th>\n",
       "      <td>BloodPressure</td>\n",
       "      <td>0.077491</td>\n",
       "    </tr>\n",
       "    <tr>\n",
       "      <th>3</th>\n",
       "      <td>SkinThickness</td>\n",
       "      <td>0.045129</td>\n",
       "    </tr>\n",
       "    <tr>\n",
       "      <th>4</th>\n",
       "      <td>Insulin</td>\n",
       "      <td>0.030865</td>\n",
       "    </tr>\n",
       "    <tr>\n",
       "      <th>5</th>\n",
       "      <td>BMI</td>\n",
       "      <td>0.166217</td>\n",
       "    </tr>\n",
       "    <tr>\n",
       "      <th>6</th>\n",
       "      <td>DiabetesPedigreeFunction</td>\n",
       "      <td>0.165793</td>\n",
       "    </tr>\n",
       "    <tr>\n",
       "      <th>7</th>\n",
       "      <td>Age</td>\n",
       "      <td>0.142351</td>\n",
       "    </tr>\n",
       "  </tbody>\n",
       "</table>\n",
       "</div>"
      ],
      "text/plain": [
       "              input columns  Features\n",
       "0               Pregnancies  0.069794\n",
       "1                   Glucose  0.302360\n",
       "2             BloodPressure  0.077491\n",
       "3             SkinThickness  0.045129\n",
       "4                   Insulin  0.030865\n",
       "5                       BMI  0.166217\n",
       "6  DiabetesPedigreeFunction  0.165793\n",
       "7                       Age  0.142351"
      ]
     },
     "execution_count": 32,
     "metadata": {},
     "output_type": "execute_result"
    }
   ],
   "source": [
    "#create a dictionary for visualisation on imp col with actual col\n",
    "\n",
    "dict={'input columns':x.columns,'Features':dt.feature_importances_}\n",
    "a=pd.DataFrame(dict)\n",
    "a"
   ]
  },
  {
   "cell_type": "code",
   "execution_count": 33,
   "id": "eaaa47bf",
   "metadata": {},
   "outputs": [
    {
     "data": {
      "text/html": [
       "<div>\n",
       "<style scoped>\n",
       "    .dataframe tbody tr th:only-of-type {\n",
       "        vertical-align: middle;\n",
       "    }\n",
       "\n",
       "    .dataframe tbody tr th {\n",
       "        vertical-align: top;\n",
       "    }\n",
       "\n",
       "    .dataframe thead th {\n",
       "        text-align: right;\n",
       "    }\n",
       "</style>\n",
       "<table border=\"1\" class=\"dataframe\">\n",
       "  <thead>\n",
       "    <tr style=\"text-align: right;\">\n",
       "      <th></th>\n",
       "      <th>input columns</th>\n",
       "      <th>Features</th>\n",
       "    </tr>\n",
       "  </thead>\n",
       "  <tbody>\n",
       "    <tr>\n",
       "      <th>0</th>\n",
       "      <td>Glucose</td>\n",
       "      <td>0.302360</td>\n",
       "    </tr>\n",
       "    <tr>\n",
       "      <th>1</th>\n",
       "      <td>BMI</td>\n",
       "      <td>0.166217</td>\n",
       "    </tr>\n",
       "    <tr>\n",
       "      <th>2</th>\n",
       "      <td>DiabetesPedigreeFunction</td>\n",
       "      <td>0.165793</td>\n",
       "    </tr>\n",
       "    <tr>\n",
       "      <th>3</th>\n",
       "      <td>Age</td>\n",
       "      <td>0.142351</td>\n",
       "    </tr>\n",
       "    <tr>\n",
       "      <th>4</th>\n",
       "      <td>BloodPressure</td>\n",
       "      <td>0.077491</td>\n",
       "    </tr>\n",
       "    <tr>\n",
       "      <th>5</th>\n",
       "      <td>Pregnancies</td>\n",
       "      <td>0.069794</td>\n",
       "    </tr>\n",
       "    <tr>\n",
       "      <th>6</th>\n",
       "      <td>SkinThickness</td>\n",
       "      <td>0.045129</td>\n",
       "    </tr>\n",
       "    <tr>\n",
       "      <th>7</th>\n",
       "      <td>Insulin</td>\n",
       "      <td>0.030865</td>\n",
       "    </tr>\n",
       "  </tbody>\n",
       "</table>\n",
       "</div>"
      ],
      "text/plain": [
       "              input columns  Features\n",
       "0                   Glucose  0.302360\n",
       "1                       BMI  0.166217\n",
       "2  DiabetesPedigreeFunction  0.165793\n",
       "3                       Age  0.142351\n",
       "4             BloodPressure  0.077491\n",
       "5               Pregnancies  0.069794\n",
       "6             SkinThickness  0.045129\n",
       "7                   Insulin  0.030865"
      ]
     },
     "execution_count": 33,
     "metadata": {},
     "output_type": "execute_result"
    }
   ],
   "source": [
    "#Arrange values in descending orders to check the highest values of rows\n",
    "df_=a.sort_values('Features',ascending=False,ignore_index=True)\n",
    "df_"
   ]
  },
  {
   "cell_type": "code",
   "execution_count": 34,
   "id": "f64a1be3",
   "metadata": {},
   "outputs": [
    {
     "data": {
      "image/png": "[encoded data removed]",
      "text/plain": [
       "<Figure size 1440x1440 with 1 Axes>"
      ]
     },
     "metadata": {
      "needs_background": "light"
     },
     "output_type": "display_data"
    }
   ],
   "source": [
    "# create a Decision Tree\n",
    "from sklearn import tree\n",
    "features=x.columns\n",
    "plt.figure(figsize=(20,20))\n",
    "_=tree.plot_tree(dt,feature_names=features,filled=True)     #_= means drawing the tree and showing it simultaneously\n"
   ]
  },
  {
   "cell_type": "code",
   "execution_count": 35,
   "id": "7daea83a",
   "metadata": {},
   "outputs": [],
   "source": [
    "# here we got less score 0.68% its not good \n",
    "# reason behind less score, overfit means model is overfit so reduced the overfitting situation:-\n",
    "# then we use pruning technique.\n",
    "# There are 2 types of pruning techniques\n",
    "#2. min_samples_leaf  : inbuilt parameter\n"
   ]
  },
  {
   "cell_type": "markdown",
   "id": "31dd97b6",
   "metadata": {},
   "source": [
    "PRUNING TECHNIQUE"
   ]
  },
  {
   "cell_type": "code",
   "execution_count": 36,
   "id": "66a832fe",
   "metadata": {},
   "outputs": [
    {
     "name": "stdout",
     "output_type": "stream",
     "text": [
      "              precision    recall  f1-score   support\n",
      "\n",
      "           0       0.88      0.68      0.76       154\n",
      "           1       0.53      0.80      0.64        70\n",
      "\n",
      "    accuracy                           0.71       224\n",
      "   macro avg       0.70      0.74      0.70       224\n",
      "weighted avg       0.77      0.71      0.72       224\n",
      "\n",
      "[[104  50]\n",
      " [ 14  56]]\n"
     ]
    }
   ],
   "source": [
    "#apply pruning technique for DTC using entropy\n",
    "#max_depth<=8\n",
    "\n",
    "'''for i in range(1,9):\n",
    "    dt=DecisionTreeClassifier(random_state=1,max_depth=i)\n",
    "    print(\"max_depth0:\",i)\n",
    "    #call the function\n",
    "    dt=create_model(dt)'''\n",
    "\n",
    "dt1=DecisionTreeClassifier(random_state=1,max_depth=4)\n",
    "# call function\n",
    "dt1=create_model(dt1)"
   ]
  },
  {
   "cell_type": "code",
   "execution_count": 37,
   "id": "42b0c4af",
   "metadata": {},
   "outputs": [
    {
     "name": "stdout",
     "output_type": "stream",
     "text": [
      "              precision    recall  f1-score   support\n",
      "\n",
      "           0       0.85      0.78      0.81       154\n",
      "           1       0.59      0.69      0.63        70\n",
      "\n",
      "    accuracy                           0.75       224\n",
      "   macro avg       0.72      0.73      0.72       224\n",
      "weighted avg       0.76      0.75      0.75       224\n",
      "\n",
      "[[120  34]\n",
      " [ 22  48]]\n"
     ]
    }
   ],
   "source": [
    "# min_samples\n",
    "#create object of DecisionTreeClassifier class and pass the arguments\n",
    "'''for i in range(45,101):\n",
    "    dt2=DecisionTreeClassifier(random_state=1,min_samples_leaf=i)\n",
    "    print(\"min samples leaf:\",i)\n",
    "    #call the function \n",
    "    dt2=create_model(dt2)\n",
    "    '''\n",
    "    \n",
    "\n",
    "dt2=DecisionTreeClassifier(random_state=1,min_samples_leaf=46)\n",
    "#call the function \n",
    "dt2=create_model(dt2)\n",
    "\n"
   ]
  },
  {
   "cell_type": "code",
   "execution_count": 38,
   "id": "cdca05a2",
   "metadata": {},
   "outputs": [
    {
     "data": {
      "text/html": [
       "<div>\n",
       "<style scoped>\n",
       "    .dataframe tbody tr th:only-of-type {\n",
       "        vertical-align: middle;\n",
       "    }\n",
       "\n",
       "    .dataframe tbody tr th {\n",
       "        vertical-align: top;\n",
       "    }\n",
       "\n",
       "    .dataframe thead th {\n",
       "        text-align: right;\n",
       "    }\n",
       "</style>\n",
       "<table border=\"1\" class=\"dataframe\">\n",
       "  <thead>\n",
       "    <tr style=\"text-align: right;\">\n",
       "      <th></th>\n",
       "      <th>input columns</th>\n",
       "      <th>Features</th>\n",
       "    </tr>\n",
       "  </thead>\n",
       "  <tbody>\n",
       "    <tr>\n",
       "      <th>0</th>\n",
       "      <td>Glucose</td>\n",
       "      <td>0.302360</td>\n",
       "    </tr>\n",
       "    <tr>\n",
       "      <th>1</th>\n",
       "      <td>BMI</td>\n",
       "      <td>0.166217</td>\n",
       "    </tr>\n",
       "    <tr>\n",
       "      <th>2</th>\n",
       "      <td>DiabetesPedigreeFunction</td>\n",
       "      <td>0.165793</td>\n",
       "    </tr>\n",
       "    <tr>\n",
       "      <th>3</th>\n",
       "      <td>Age</td>\n",
       "      <td>0.142351</td>\n",
       "    </tr>\n",
       "    <tr>\n",
       "      <th>4</th>\n",
       "      <td>BloodPressure</td>\n",
       "      <td>0.077491</td>\n",
       "    </tr>\n",
       "    <tr>\n",
       "      <th>5</th>\n",
       "      <td>Pregnancies</td>\n",
       "      <td>0.069794</td>\n",
       "    </tr>\n",
       "    <tr>\n",
       "      <th>6</th>\n",
       "      <td>SkinThickness</td>\n",
       "      <td>0.045129</td>\n",
       "    </tr>\n",
       "    <tr>\n",
       "      <th>7</th>\n",
       "      <td>Insulin</td>\n",
       "      <td>0.030865</td>\n",
       "    </tr>\n",
       "  </tbody>\n",
       "</table>\n",
       "</div>"
      ],
      "text/plain": [
       "              input columns  Features\n",
       "0                   Glucose  0.302360\n",
       "1                       BMI  0.166217\n",
       "2  DiabetesPedigreeFunction  0.165793\n",
       "3                       Age  0.142351\n",
       "4             BloodPressure  0.077491\n",
       "5               Pregnancies  0.069794\n",
       "6             SkinThickness  0.045129\n",
       "7                   Insulin  0.030865"
      ]
     },
     "execution_count": 38,
     "metadata": {},
     "output_type": "execute_result"
    }
   ],
   "source": [
    "dict1={'input columns':x.columns,'Features':dt.feature_importances_}\n",
    "dict1=pd.DataFrame(dict1)\n",
    "dict1.sort_values('Features',axis=0,ascending=False,ignore_index=True)"
   ]
  },
  {
   "cell_type": "markdown",
   "id": "17558bdd",
   "metadata": {},
   "source": [
    "# obervation:- \n",
    "in min_sample_leaf the important input are :\n",
    "1.Glucose:- 0.342767\n",
    "2.BMI:-0.182876\n",
    "3.DiabetesPedigreeFunction:-0.179742\n",
    "4.Age:-0.120188"
   ]
  },
  {
   "cell_type": "code",
   "execution_count": 39,
   "id": "73a4a204",
   "metadata": {},
   "outputs": [],
   "source": [
    "#conclusion : \n",
    "#Decision Tree Classifier with GINI Index :   1-0.51 anf 0 - 0.68\n",
    "#applied Pruning Tech : 1. max_depth with GINI INDEX then got \n",
    "#Accurancy  1: 0.80   and 0 : 0.68  and max_depth=4\n",
    "#but applied pruning tech. 2. min_samples_leaf with GINI INDEX then got \n",
    "#Accurancy  1: 0.69  and 0 : 0.78  and min_samples_leaf=46"
   ]
  },
  {
   "cell_type": "code",
   "execution_count": 40,
   "id": "09282638",
   "metadata": {},
   "outputs": [
    {
     "data": {
      "image/png": "[encoded data removed]",
      "text/plain": [
       "<Figure size 720x720 with 1 Axes>"
      ]
     },
     "metadata": {
      "needs_background": "light"
     },
     "output_type": "display_data"
    }
   ],
   "source": [
    "# create a tree again\n",
    "\n",
    "from sklearn import tree\n",
    "\n",
    "# Tree hamesha inputs/features pe banega, so inputs are in columns\n",
    "features=x.columns\n",
    "plt.figure(figsize=(10,10))\n",
    "_=tree.plot_tree(dt2,feature_names=features,filled=True)\n"
   ]
  },
  {
   "cell_type": "code",
   "execution_count": 41,
   "id": "2e429937",
   "metadata": {},
   "outputs": [
    {
     "name": "stdout",
     "output_type": "stream",
     "text": [
      "              precision    recall  f1-score   support\n",
      "\n",
      "           0       0.80      0.82      0.81       154\n",
      "           1       0.58      0.54      0.56        70\n",
      "\n",
      "    accuracy                           0.74       224\n",
      "   macro avg       0.69      0.68      0.69       224\n",
      "weighted avg       0.73      0.74      0.73       224\n",
      "\n",
      "[[127  27]\n",
      " [ 32  38]]\n"
     ]
    }
   ],
   "source": [
    "# apply decision tree algorithm for entropy index\n",
    "#use entropy method:-p(yes)* log(p(yes))-Q(no)*log(Q(no))\n",
    "#first create object for DecisionTreeClassifier class and \n",
    "#passing the parameter criterion =\"entropy\" by deafalut criterion=\"gini index\" if didnpt give\n",
    "dt=DecisionTreeClassifier(random_state=1,criterion=\"entropy\")\n",
    "#not apply pruning technique\n",
    "\n",
    "#call the function \n",
    "dt=create_model(dt)"
   ]
  },
  {
   "cell_type": "code",
   "execution_count": 42,
   "id": "ecca2fdc",
   "metadata": {},
   "outputs": [
    {
     "name": "stdout",
     "output_type": "stream",
     "text": [
      "              precision    recall  f1-score   support\n",
      "\n",
      "           0       0.88      0.69      0.78       154\n",
      "           1       0.54      0.79      0.64        70\n",
      "\n",
      "    accuracy                           0.72       224\n",
      "   macro avg       0.71      0.74      0.71       224\n",
      "weighted avg       0.77      0.72      0.73       224\n",
      "\n",
      "[[107  47]\n",
      " [ 15  55]]\n"
     ]
    }
   ],
   "source": [
    "#apply pruning technique for DTC using entropy\n",
    "#max_depth<=8\n",
    "\n",
    "'''for i in range(1,9):\n",
    "    dt=DecisionTreeClassifier(random_state=1,criterion=\"entropy\",max_depth=i)\n",
    "    print(\"max_depth0:\",i)\n",
    "    #call the function\n",
    "    dt=create_model(dt)'''\n",
    "    \n",
    "\n",
    "\n",
    "\n",
    "dt=DecisionTreeClassifier(random_state=1,criterion=\"entropy\",max_depth=4)\n",
    "#call the function\n",
    "dt=create_model(dt)"
   ]
  },
  {
   "cell_type": "code",
   "execution_count": 43,
   "id": "71680834",
   "metadata": {},
   "outputs": [
    {
     "name": "stdout",
     "output_type": "stream",
     "text": [
      "              precision    recall  f1-score   support\n",
      "\n",
      "           0       0.89      0.69      0.78       154\n",
      "           1       0.55      0.81      0.66        70\n",
      "\n",
      "    accuracy                           0.73       224\n",
      "   macro avg       0.72      0.75      0.72       224\n",
      "weighted avg       0.78      0.73      0.74       224\n",
      "\n",
      "[[107  47]\n",
      " [ 13  57]]\n"
     ]
    }
   ],
   "source": [
    "#apply 2nd pruning technique min_samples_leaf\n",
    "\n",
    "'''for i in range(45,101):\n",
    "    dt=DecisionTreeClassifier(random_state=1,criterion=\"entropy\",min_samples_leaf=i)\n",
    "    print(\"min_samples_leaf:\",i)\n",
    "    #call the function\n",
    "    dt=create_model(dt)\n",
    "    '''\n",
    "\n",
    "dt=DecisionTreeClassifier(random_state=1,criterion=\"entropy\",min_samples_leaf=61)\n",
    "#call the function\n",
    "dt=create_model(dt)"
   ]
  },
  {
   "cell_type": "code",
   "execution_count": 44,
   "id": "26fb95cf",
   "metadata": {},
   "outputs": [
    {
     "data": {
      "text/html": [
       "<div>\n",
       "<style scoped>\n",
       "    .dataframe tbody tr th:only-of-type {\n",
       "        vertical-align: middle;\n",
       "    }\n",
       "\n",
       "    .dataframe tbody tr th {\n",
       "        vertical-align: top;\n",
       "    }\n",
       "\n",
       "    .dataframe thead th {\n",
       "        text-align: right;\n",
       "    }\n",
       "</style>\n",
       "<table border=\"1\" class=\"dataframe\">\n",
       "  <thead>\n",
       "    <tr style=\"text-align: right;\">\n",
       "      <th></th>\n",
       "      <th>input columns</th>\n",
       "      <th>Features</th>\n",
       "    </tr>\n",
       "  </thead>\n",
       "  <tbody>\n",
       "    <tr>\n",
       "      <th>0</th>\n",
       "      <td>Glucose</td>\n",
       "      <td>0.623470</td>\n",
       "    </tr>\n",
       "    <tr>\n",
       "      <th>1</th>\n",
       "      <td>BMI</td>\n",
       "      <td>0.256600</td>\n",
       "    </tr>\n",
       "    <tr>\n",
       "      <th>2</th>\n",
       "      <td>Age</td>\n",
       "      <td>0.119931</td>\n",
       "    </tr>\n",
       "    <tr>\n",
       "      <th>3</th>\n",
       "      <td>Pregnancies</td>\n",
       "      <td>0.000000</td>\n",
       "    </tr>\n",
       "    <tr>\n",
       "      <th>4</th>\n",
       "      <td>BloodPressure</td>\n",
       "      <td>0.000000</td>\n",
       "    </tr>\n",
       "    <tr>\n",
       "      <th>5</th>\n",
       "      <td>SkinThickness</td>\n",
       "      <td>0.000000</td>\n",
       "    </tr>\n",
       "    <tr>\n",
       "      <th>6</th>\n",
       "      <td>Insulin</td>\n",
       "      <td>0.000000</td>\n",
       "    </tr>\n",
       "    <tr>\n",
       "      <th>7</th>\n",
       "      <td>DiabetesPedigreeFunction</td>\n",
       "      <td>0.000000</td>\n",
       "    </tr>\n",
       "  </tbody>\n",
       "</table>\n",
       "</div>"
      ],
      "text/plain": [
       "              input columns  Features\n",
       "0                   Glucose  0.623470\n",
       "1                       BMI  0.256600\n",
       "2                       Age  0.119931\n",
       "3               Pregnancies  0.000000\n",
       "4             BloodPressure  0.000000\n",
       "5             SkinThickness  0.000000\n",
       "6                   Insulin  0.000000\n",
       "7  DiabetesPedigreeFunction  0.000000"
      ]
     },
     "execution_count": 44,
     "metadata": {},
     "output_type": "execute_result"
    }
   ],
   "source": [
    "dict2={'input columns':x.columns,'Features':dt.feature_importances_}\n",
    "dict2=pd.DataFrame(dict2)\n",
    "dict2.sort_values('Features',axis=0,ascending=False,ignore_index=True)"
   ]
  },
  {
   "cell_type": "markdown",
   "id": "c5836997",
   "metadata": {},
   "source": [
    "observation:in entropy using min_samples_leaf the important input are\n",
    "0.Glucose:0.616373\n",
    "1.BMI:0.226624\n",
    "2.Age:0.105920\n",
    "3.DiabetesPedigreeFunction:0.029281\n",
    "4.SkinThickness:0.021801"
   ]
  },
  {
   "cell_type": "code",
   "execution_count": 45,
   "id": "fa2523cb",
   "metadata": {},
   "outputs": [],
   "source": [
    "#conclusion : \n",
    "#Decision Tree Classifier with entropy Index :   1-0.54 and 0 - 0.82\n",
    "#applied Pruning Tech : 1. max_depth with entropy then got \n",
    "#Accurancy  1: 0.79   and 0 : 0.69  and max_depth=4\n",
    "#but applied pruning tech. 2. min_samples_leaf with entropy then got \n",
    "#Accurancy  1: 0.81   and 0 : 0.69  and min_samples_leaf=61\n"
   ]
  },
  {
   "cell_type": "code",
   "execution_count": 46,
   "id": "82a523e4",
   "metadata": {},
   "outputs": [
    {
     "data": {
      "text/plain": [
       "(744, 8)"
      ]
     },
     "execution_count": 46,
     "metadata": {},
     "output_type": "execute_result"
    }
   ],
   "source": [
    "# checking features\n",
    "x.shape"
   ]
  },
  {
   "cell_type": "code",
   "execution_count": 47,
   "id": "9366b9a4",
   "metadata": {},
   "outputs": [
    {
     "data": {
      "text/plain": [
       "(744, 9)"
      ]
     },
     "execution_count": 47,
     "metadata": {},
     "output_type": "execute_result"
    }
   ],
   "source": [
    "df.shape"
   ]
  },
  {
   "cell_type": "code",
   "execution_count": 48,
   "id": "4b20eadf",
   "metadata": {},
   "outputs": [
    {
     "name": "stdout",
     "output_type": "stream",
     "text": [
      "              precision    recall  f1-score   support\n",
      "\n",
      "           0       0.82      0.85      0.84       154\n",
      "           1       0.65      0.60      0.62        70\n",
      "\n",
      "    accuracy                           0.77       224\n",
      "   macro avg       0.74      0.73      0.73       224\n",
      "weighted avg       0.77      0.77      0.77       224\n",
      "\n",
      "[[131  23]\n",
      " [ 28  42]]\n"
     ]
    },
    {
     "data": {
      "text/plain": [
       "'for i in range(9,0,-1):\\n    #create object for RandomForestClassifier class\\n    rfc=RandomForestClassifier(n_estimators=10,max_features=i,random_state=1)\\n    print(\"no of features:\",i)\\n    #call the function\\n    rfc=create_model(rfc)'"
      ]
     },
     "execution_count": 48,
     "metadata": {},
     "output_type": "execute_result"
    }
   ],
   "source": [
    "#ENSEMBLING TECHNIQUE: RANDOM FOREST TREE\n",
    "#call random forest tree from package use gini index\n",
    "from sklearn.ensemble import RandomForestClassifier\n",
    "#create a object of RandomForestClassifier class()\n",
    "rfc=RandomForestClassifier(n_estimators=10,max_features=2,random_state=1)\n",
    "#estimators means how many decisiontreeclassifiers min=10 ,max=100\n",
    "#max_features means take how many inputs\n",
    "#bydefalut it took GINI INDEX\n",
    "\n",
    "#call the function    \n",
    "rfc=create_model(rfc)\n",
    "\n",
    "\n",
    "'''for i in range(9,0,-1):\n",
    "    #create object for RandomForestClassifier class\n",
    "    rfc=RandomForestClassifier(n_estimators=10,max_features=i,random_state=1)\n",
    "    print(\"no of features:\",i)\n",
    "    #call the function\n",
    "    rfc=create_model(rfc)'''\n",
    "\n"
   ]
  },
  {
   "cell_type": "code",
   "execution_count": 49,
   "id": "44bfccf6",
   "metadata": {},
   "outputs": [
    {
     "name": "stdout",
     "output_type": "stream",
     "text": [
      "              precision    recall  f1-score   support\n",
      "\n",
      "           0       0.82      0.84      0.83       154\n",
      "           1       0.64      0.60      0.62        70\n",
      "\n",
      "    accuracy                           0.77       224\n",
      "   macro avg       0.73      0.72      0.73       224\n",
      "weighted avg       0.76      0.77      0.77       224\n",
      "\n",
      "[[130  24]\n",
      " [ 28  42]]\n"
     ]
    }
   ],
   "source": [
    "# use entropy\n",
    "\n",
    "'''for i in range(8,0,-1):\n",
    "    #create object for RandomForestClassifier class\n",
    "    rfc=RandomForestClassifier(n_estimators=10,max_features=i,random_state=1,criterion=\"entropy\")\n",
    "    print(\"no of features:\",i)\n",
    "    #call the function\n",
    "    rfc=create_model(rfc)'''\n",
    "\n",
    "\n",
    "rfc=RandomForestClassifier(n_estimators=10,max_features=7,random_state=1,criterion=\"entropy\")\n",
    "#call the function\n",
    "rfc=create_model(rfc)"
   ]
  },
  {
   "cell_type": "code",
   "execution_count": 50,
   "id": "0df7c696",
   "metadata": {},
   "outputs": [],
   "source": [
    "#random forest  with gini Index :   1-0.60 and 0 - 0.85 fe=2\n",
    "# random forest with entropy Index :   1-0.60 and 0 - 0.84 fe=7\n"
   ]
  },
  {
   "cell_type": "code",
   "execution_count": 51,
   "id": "e2cfa021",
   "metadata": {},
   "outputs": [
    {
     "data": {
      "text/plain": [
       "(744, 9)"
      ]
     },
     "execution_count": 51,
     "metadata": {},
     "output_type": "execute_result"
    }
   ],
   "source": [
    "df.shape"
   ]
  },
  {
   "cell_type": "code",
   "execution_count": 52,
   "id": "ae8ed703",
   "metadata": {},
   "outputs": [],
   "source": [
    "# #USE BOOSTING TECHNIQUE:\n",
    "#apply ADA bost on given dataset\n",
    "from sklearn.ensemble import AdaBoostClassifier"
   ]
  },
  {
   "cell_type": "code",
   "execution_count": 53,
   "id": "099f0ca7",
   "metadata": {},
   "outputs": [
    {
     "name": "stdout",
     "output_type": "stream",
     "text": [
      "              precision    recall  f1-score   support\n",
      "\n",
      "           0       0.81      0.85      0.83       154\n",
      "           1       0.63      0.56      0.59        70\n",
      "\n",
      "    accuracy                           0.76       224\n",
      "   macro avg       0.72      0.70      0.71       224\n",
      "weighted avg       0.75      0.76      0.75       224\n",
      "\n",
      "[[131  23]\n",
      " [ 31  39]]\n"
     ]
    },
    {
     "data": {
      "text/plain": [
       "'for i in range(1,10):\\n    #create object for RandomForestClassifier class\\n    ada=AdaBoostClassifier(n_estimators=i,random_state=1)\\n    print(\"no of descision stump:\",i)\\n    #call the function\\n    ada=create_model(ada)\\n'"
      ]
     },
     "execution_count": 53,
     "metadata": {},
     "output_type": "execute_result"
    }
   ],
   "source": [
    "#create the object AdaBoostClassifier class#by deafalut gini index\n",
    "ada=AdaBoostClassifier(n_estimators=5,random_state=1)\n",
    "#call the function\n",
    "ada=create_model(ada)\n",
    "#n_estimators means no. of decision stump can be <=100_estimators can be <=100\n",
    "\n",
    "'''for i in range(1,10):\n",
    "    #create object for RandomForestClassifier class\n",
    "    ada=AdaBoostClassifier(n_estimators=i,random_state=1)\n",
    "    print(\"no of descision stump:\",i)\n",
    "    #call the function\n",
    "    ada=create_model(ada)\n",
    "'''\n"
   ]
  },
  {
   "cell_type": "code",
   "execution_count": 54,
   "id": "f16e49a9",
   "metadata": {},
   "outputs": [],
   "source": [
    "#conclusion :#adaboosting  recall score :   1-0.56 and 0 - 0.85 on decision stump:5"
   ]
  },
  {
   "cell_type": "code",
   "execution_count": 55,
   "id": "44a7bee6",
   "metadata": {},
   "outputs": [
    {
     "name": "stdout",
     "output_type": "stream",
     "text": [
      "              precision    recall  f1-score   support\n",
      "\n",
      "           0       0.82      0.83      0.83       154\n",
      "           1       0.62      0.60      0.61        70\n",
      "\n",
      "    accuracy                           0.76       224\n",
      "   macro avg       0.72      0.72      0.72       224\n",
      "weighted avg       0.76      0.76      0.76       224\n",
      "\n",
      "[[128  26]\n",
      " [ 28  42]]\n"
     ]
    },
    {
     "data": {
      "text/plain": [
       "'for i in range(10,101):\\n    #create object for RandomForestClassifier class\\n    gbc=GradientBoostingClassifier(n_estimators=i,random_state=1)\\n    print(\"no of descision stump:\",i)\\n    #call the function\\n    gbc=create_model(gbc)'"
      ]
     },
     "execution_count": 55,
     "metadata": {},
     "output_type": "execute_result"
    }
   ],
   "source": [
    "#Gradient Boosting :\n",
    "#apply gradient Boost technuique on bank dataset\n",
    "from sklearn.ensemble import GradientBoostingClassifier\n",
    "#create the object GradientBoostClassifier class#by deafalut gini index\n",
    "gbc=GradientBoostingClassifier(n_estimators=24,random_state=1)\n",
    "#n_estimators means no. of iteration of decision stump can be <=100_estimators can be <=100\n",
    "#call the function\n",
    "gbc=create_model(gbc)\n",
    "\n",
    "'''for i in range(10,101):\n",
    "    #create object for RandomForestClassifier class\n",
    "    gbc=GradientBoostingClassifier(n_estimators=i,random_state=1)\n",
    "    print(\"no of descision stump:\",i)\n",
    "    #call the function\n",
    "    gbc=create_model(gbc)'''\n"
   ]
  },
  {
   "cell_type": "code",
   "execution_count": 56,
   "id": "4320c60d",
   "metadata": {},
   "outputs": [],
   "source": [
    "#conclusion :#gradientboosting  recall score :   1-0.60 and 0 - 0.83 on decision stump:10"
   ]
  },
  {
   "cell_type": "code",
   "execution_count": 57,
   "id": "df036cbf",
   "metadata": {},
   "outputs": [],
   "source": [
    "#Extreme Gradient Boosting(XGB)\n",
    "#!pip install xgboost\n",
    "#call \n",
    "from xgboost import XGBClassifier"
   ]
  },
  {
   "cell_type": "code",
   "execution_count": 58,
   "id": "06b29083",
   "metadata": {},
   "outputs": [
    {
     "name": "stdout",
     "output_type": "stream",
     "text": [
      "              precision    recall  f1-score   support\n",
      "\n",
      "           0       0.84      0.81      0.82       154\n",
      "           1       0.61      0.67      0.64        70\n",
      "\n",
      "    accuracy                           0.76       224\n",
      "   macro avg       0.73      0.74      0.73       224\n",
      "weighted avg       0.77      0.76      0.77       224\n",
      "\n",
      "[[124  30]\n",
      " [ 23  47]]\n"
     ]
    },
    {
     "data": {
      "text/plain": [
       "'for i in range(10,101):\\n    #create object for RandomForestClassifier class\\n    xgc=XGBClassifier(n_estimators=i,reg_alpha=1,random_state=1)\\n    print(\"no of descision stump:\",i)\\n    #call the function\\n    xgc=create_model(xgc)'"
      ]
     },
     "execution_count": 58,
     "metadata": {},
     "output_type": "execute_result"
    }
   ],
   "source": [
    "#create object for XGBClassifier class\n",
    "xgc=XGBClassifier(n_estimators=11,reg_alpha=1,random_state=1)\n",
    "#automatic overftting : reg means regualrization  and alpha or lambda:\n",
    "#hyperpermater\n",
    "#n_estimators means no. of iteration of decision stump can be <=100_estimators can be <=100\n",
    "#call the function\n",
    "xgc=create_model(xgc)\n",
    "\n",
    "\n",
    "'''for i in range(10,101):\n",
    "    #create object for RandomForestClassifier class\n",
    "    xgc=XGBClassifier(n_estimators=i,reg_alpha=1,random_state=1)\n",
    "    print(\"no of descision stump:\",i)\n",
    "    #call the function\n",
    "    xgc=create_model(xgc)'''\n",
    "\n"
   ]
  },
  {
   "cell_type": "code",
   "execution_count": 59,
   "id": "a23247fe",
   "metadata": {},
   "outputs": [],
   "source": [
    "#conclusion :# extreme gradientboosting  recall score :   1-0.67 and 0 - 0.81 on decision stump:11"
   ]
  },
  {
   "cell_type": "code",
   "execution_count": 60,
   "id": "c9975558",
   "metadata": {},
   "outputs": [],
   "source": [
    "#Apply Support Vector Machine (SVM)\n",
    "#1. Linear Separable data means Linear Kernal\n",
    "#call inbuilt class \n",
    "from sklearn.svm import LinearSVC\n",
    "#LinearSVC means Linear support vector classifier"
   ]
  },
  {
   "cell_type": "code",
   "execution_count": 61,
   "id": "f472ddd1",
   "metadata": {},
   "outputs": [],
   "source": [
    "#create the object of LinearSVC class\n",
    "svc=LinearSVC(random_state=1) #bydefault hard margin , suppose no\n",
    "#outlier in my dataset means suppose no overfit \n",
    "#svc user defined object"
   ]
  },
  {
   "cell_type": "code",
   "execution_count": 62,
   "id": "72c2de90",
   "metadata": {},
   "outputs": [
    {
     "name": "stdout",
     "output_type": "stream",
     "text": [
      "              precision    recall  f1-score   support\n",
      "\n",
      "           0       0.82      0.88      0.85       154\n",
      "           1       0.69      0.57      0.62        70\n",
      "\n",
      "    accuracy                           0.79       224\n",
      "   macro avg       0.75      0.73      0.74       224\n",
      "weighted avg       0.78      0.79      0.78       224\n",
      "\n",
      "[[136  18]\n",
      " [ 30  40]]\n"
     ]
    }
   ],
   "source": [
    "#call function \n",
    "svc=create_model(svc)"
   ]
  },
  {
   "cell_type": "code",
   "execution_count": 63,
   "id": "ef1ff2db",
   "metadata": {},
   "outputs": [],
   "source": [
    "#create object of LinearSVC class and add some external error \n",
    "svc1=LinearSVC(random_state=1,C=0.90) #soft margin\n",
    "\n",
    "#here C is parameter which is used to add some error during training time \n",
    "#set range of error 0.001 to 1 means C<=1"
   ]
  },
  {
   "cell_type": "code",
   "execution_count": 64,
   "id": "b29e7f3b",
   "metadata": {},
   "outputs": [
    {
     "name": "stdout",
     "output_type": "stream",
     "text": [
      "              precision    recall  f1-score   support\n",
      "\n",
      "           0       0.82      0.88      0.85       154\n",
      "           1       0.69      0.57      0.62        70\n",
      "\n",
      "    accuracy                           0.79       224\n",
      "   macro avg       0.75      0.73      0.74       224\n",
      "weighted avg       0.78      0.79      0.78       224\n",
      "\n",
      "[[136  18]\n",
      " [ 30  40]]\n"
     ]
    }
   ],
   "source": [
    "#call function\n",
    "svc1=create_model(svc1)"
   ]
  },
  {
   "cell_type": "code",
   "execution_count": 65,
   "id": "31425285",
   "metadata": {},
   "outputs": [],
   "source": [
    "#data is not linear cause even after adding external errors nothing happened"
   ]
  },
  {
   "cell_type": "code",
   "execution_count": 66,
   "id": "59862b42",
   "metadata": {},
   "outputs": [],
   "source": [
    "#polynomial kernel function\n",
    "#use ibuilt class SVC(support vector classifier)\n",
    "from sklearn.svm import SVC\n",
    "#SVC is used for polynomial and radial basis kernel function: both are used for non-linear data"
   ]
  },
  {
   "cell_type": "code",
   "execution_count": 67,
   "id": "466894cc",
   "metadata": {},
   "outputs": [],
   "source": [
    "#create object for  SVC class and passing the poly in kernel parameter\n",
    "svc1= SVC(random_state=1,kernel=\"poly\")"
   ]
  },
  {
   "cell_type": "code",
   "execution_count": 68,
   "id": "f1cb355c",
   "metadata": {},
   "outputs": [
    {
     "name": "stdout",
     "output_type": "stream",
     "text": [
      "              precision    recall  f1-score   support\n",
      "\n",
      "           0       0.79      0.96      0.87       154\n",
      "           1       0.83      0.43      0.57        70\n",
      "\n",
      "    accuracy                           0.79       224\n",
      "   macro avg       0.81      0.69      0.72       224\n",
      "weighted avg       0.80      0.79      0.77       224\n",
      "\n",
      "[[148   6]\n",
      " [ 40  30]]\n"
     ]
    }
   ],
   "source": [
    "#call function \n",
    "svc1=create_model(svc1)\n"
   ]
  },
  {
   "cell_type": "code",
   "execution_count": 69,
   "id": "bc3b2013",
   "metadata": {},
   "outputs": [],
   "source": [
    "#radial kernel function\n",
    "#create object for  SVC class and passing the radial basis in kernel parameter\n",
    "#svc2= SVC(random_state=1,kernel=\"rbf\")\n",
    "#call function \n",
    "#svc2=create_model(svc2)"
   ]
  },
  {
   "cell_type": "code",
   "execution_count": 70,
   "id": "91a9a03c",
   "metadata": {},
   "outputs": [],
   "source": [
    "#svm radial basis kernel\n",
    "#score of recall category 0:0.60 and 1:0.87\n"
   ]
  },
  {
   "cell_type": "markdown",
   "id": "fddc7eb9",
   "metadata": {},
   "source": [
    "KNN ALGO"
   ]
  },
  {
   "cell_type": "code",
   "execution_count": 71,
   "id": "bca0ec29",
   "metadata": {},
   "outputs": [
    {
     "name": "stdout",
     "output_type": "stream",
     "text": [
      "              precision    recall  f1-score   support\n",
      "\n",
      "           0       0.81      0.84      0.83       154\n",
      "           1       0.62      0.56      0.59        70\n",
      "\n",
      "    accuracy                           0.75       224\n",
      "   macro avg       0.71      0.70      0.71       224\n",
      "weighted avg       0.75      0.75      0.75       224\n",
      "\n",
      "[[130  24]\n",
      " [ 31  39]]\n"
     ]
    }
   ],
   "source": [
    "#call the call of kneighborsClassifier.\n",
    "from sklearn.neighbors import KNeighborsClassifier\n",
    "#create the object of KNeighborsClassifier\n",
    "knc = KNeighborsClassifier(n_neighbors =5,metric='minkowski',p=2)\n",
    "#bydefault the n_neighbors is 5 (alway odd )\n",
    "#p=2 means eucliden metric.\n",
    "#genrate the report\n",
    "knc=create_model(knc)"
   ]
  },
  {
   "cell_type": "markdown",
   "id": "2f87fc76",
   "metadata": {},
   "source": [
    "observation:\n",
    "    in kneighborsclassifier the recall accuracy is \n",
    "    0:84\n",
    "    1:56\n",
    "The recall accuracy is not good.        "
   ]
  },
  {
   "cell_type": "code",
   "execution_count": 1,
   "id": "120e748e",
   "metadata": {},
   "outputs": [
    {
     "data": {
      "text/plain": [
       "'The Pruning max_depth algo of DecisionTreeClassifier with gini index the recall accuarcy is good as comapre to all algo \\n    0:0.68\\n    1:0.80\\nin Pruning max_depth algo there is 14 wrongpredication.In other algorithum there are more wrong predication \\nas comapre to pruning max_depth algorithum .so we consider Purning max_depth is best algo for this dataset.And dataset is very messy.'"
      ]
     },
     "execution_count": 1,
     "metadata": {},
     "output_type": "execute_result"
    }
   ],
   "source": [
    "#conclusion:\n",
    "'''The Pruning max_depth algo of DecisionTreeClassifier with gini index the recall accuarcy is good as comapre to all algo \n",
    "    0:0.68\n",
    "    1:0.80\n",
    "in Pruning max_depth algo there is 14 wrongpredication.In other algorithum there are more wrong predication \n",
    "as comapre to pruning max_depth algorithum .so we consider Purning max_depth is best algo for this dataset.And dataset is very messy.'''"
   ]
  },
  {
   "cell_type": "code",
   "execution_count": null,
   "id": "c08a9637",
   "metadata": {},
   "outputs": [],
   "source": []
  }
 ],
 "metadata": {
  "kernelspec": {
   "display_name": "Python 3 (ipykernel)",
   "language": "python",
   "name": "python3"
  },
  "language_info": {
   "codemirror_mode": {
    "name": "ipython",
    "version": 3
   },
   "file_extension": ".py",
   "mimetype": "text/x-python",
   "name": "python",
   "nbconvert_exporter": "python",
   "pygments_lexer": "ipython3",
   "version": "3.9.7"
  }
 },
 "nbformat": 4,
 "nbformat_minor": 5
}
